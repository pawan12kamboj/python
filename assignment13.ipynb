{
 "cells": [
  {
   "cell_type": "code",
   "execution_count": 12,
   "metadata": {},
   "outputs": [
    {
     "name": "stdout",
     "output_type": "stream",
     "text": [
      "When you arise in the morning, think of what a precious privilege it is to be alive â€” to breathe, to think, to enjoy, to love.  \n"
     ]
    }
   ],
   "source": [
    "import requests,json\n",
    "response=requests.get(\"https://api.forismatic.com/api/1.0/?method=getQuote&format=json&lang=en&key=123456\")\n",
    "data=json.loads(response.text)\n",
    "print(data[\"quoteText\"])\n",
    "\n"
   ]
  },
  {
   "cell_type": "code",
   "execution_count": null,
   "metadata": {},
   "outputs": [],
   "source": []
  }
 ],
 "metadata": {
  "kernelspec": {
   "display_name": "Python 3",
   "language": "python",
   "name": "python3"
  },
  "language_info": {
   "codemirror_mode": {
    "name": "ipython",
    "version": 3
   },
   "file_extension": ".py",
   "mimetype": "text/x-python",
   "name": "python",
   "nbconvert_exporter": "python",
   "pygments_lexer": "ipython3",
   "version": "3.6.5"
  }
 },
 "nbformat": 4,
 "nbformat_minor": 2
}
